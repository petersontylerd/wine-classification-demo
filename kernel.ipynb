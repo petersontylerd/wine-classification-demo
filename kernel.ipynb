{
 "cells": [
  {
   "cell_type": "markdown",
   "metadata": {},
   "source": [
    "# Import"
   ]
  },
  {
   "cell_type": "markdown",
   "metadata": {},
   "source": [
    "## Tools"
   ]
  },
  {
   "cell_type": "code",
   "execution_count": null,
   "metadata": {
    "ExecuteTime": {
     "end_time": "2020-02-11T04:19:11.006101Z",
     "start_time": "2020-02-11T04:18:59.066336Z"
    }
   },
   "outputs": [],
   "source": [
    "# standard libary and settings\n",
    "import copy\n",
    "import os\n",
    "import pickle\n",
    "import sys\n",
    "import importlib\n",
    "import itertools\n",
    "from functools import reduce\n",
    "import time\n",
    "\n",
    "rundate = time.strftime(\"%Y%m%d\")\n",
    "\n",
    "import warnings\n",
    "\n",
    "warnings.simplefilter(\"ignore\")\n",
    "\n",
    "from IPython.core.display import display, HTML\n",
    "\n",
    "display(HTML(\"<style>.container { width:95% !important; }</style>\"))\n",
    "\n",
    "# data extensions and settings\n",
    "import numpy as np\n",
    "\n",
    "np.set_printoptions(threshold=np.inf, suppress=True)\n",
    "\n",
    "import pandas as pd\n",
    "\n",
    "pd.set_option(\"display.max_rows\", 500)\n",
    "pd.set_option(\"display.max_columns\", 500)\n",
    "pd.options.display.float_format = \"{:,.6f}\".format\n",
    "\n",
    "# modeling extensions\n",
    "from sklearn.base import TransformerMixin, BaseEstimator\n",
    "from sklearn.datasets import load_wine\n",
    "from sklearn.ensemble import (\n",
    "    RandomForestClassifier,\n",
    "    GradientBoostingClassifier,\n",
    "    AdaBoostClassifier,\n",
    "    ExtraTreesClassifier,\n",
    "    IsolationForest,\n",
    ")\n",
    "from sklearn.impute import SimpleImputer\n",
    "from sklearn.linear_model import (\n",
    "    Lasso,\n",
    "    Ridge,\n",
    "    ElasticNet,\n",
    "    LinearRegression,\n",
    "    LogisticRegression,\n",
    "    SGDRegressor,\n",
    ")\n",
    "from sklearn.model_selection import (\n",
    "    KFold,\n",
    "    train_test_split,\n",
    "    GridSearchCV,\n",
    "    StratifiedKFold,\n",
    "    cross_val_score,\n",
    "    RandomizedSearchCV,\n",
    ")\n",
    "from sklearn.neighbors import KNeighborsClassifier, KNeighborsRegressor\n",
    "from sklearn.pipeline import make_pipeline, Pipeline, FeatureUnion\n",
    "from sklearn.preprocessing import (\n",
    "    StandardScaler,\n",
    "    RobustScaler,\n",
    "    PolynomialFeatures,\n",
    "    OrdinalEncoder,\n",
    "    LabelEncoder,\n",
    "    OneHotEncoder,\n",
    "    KBinsDiscretizer,\n",
    "    QuantileTransformer,\n",
    "    PowerTransformer,\n",
    "    MinMaxScaler,\n",
    ")\n",
    "from sklearn.svm import SVC, SVR\n",
    "from category_encoders import (\n",
    "    WOEEncoder,\n",
    "    TargetEncoder,\n",
    "    CatBoostEncoder,\n",
    "    BinaryEncoder,\n",
    "    CountEncoder,\n",
    ")\n",
    "\n",
    "from lightgbm import LGBMClassifier, LGBMRegressor\n",
    "from xgboost import XGBClassifier, XGBRegressor\n",
    "\n",
    "from hyperopt import hp\n",
    "\n",
    "import eif\n",
    "import shap\n",
    "\n",
    "shap.initjs()\n",
    "\n",
    "# visualization extensions and settings\n",
    "import seaborn as sns\n",
    "import matplotlib.pyplot as plt\n",
    "%matplotlib inline\n",
    "\n",
    "import missingno as msno\n",
    "import squarify\n",
    "\n",
    "sys.path.append(f\"{os.environ['REPOS']}/mlmachine\")\n",
    "sys.path.append(f\"{os.environ['REPOS']}/prettierplot\")\n",
    "\n",
    "import mlmachine as mlm\n",
    "import mlmachine.data as data\n",
    "from mlmachine.features.preprocessing import (\n",
    "    DataFrameSelector,\n",
    "    PandasTransformer,\n",
    "    KFoldEncoder,\n",
    "    GroupbyImputer,\n",
    "    PandasFeatureUnion,\n",
    "    DualTransformer,\n",
    ")\n",
    "from prettierplot.plotter import PrettierPlot\n",
    "import prettierplot.style as style\n",
    "\n",
    "%load_ext autoreload\n",
    "%autoreload 2"
   ]
  },
  {
   "cell_type": "markdown",
   "metadata": {},
   "source": [
    "## Reload objects"
   ]
  },
  {
   "cell_type": "code",
   "execution_count": null,
   "metadata": {},
   "outputs": [],
   "source": [
    "# #\n",
    "\n",
    "# experiment_path_root = \"/data/t1-tpeterso/repos/wine-classification-demo/experiments/wine-classification\"\n",
    "# experiment = \"\"\n",
    "\n",
    "# # reload objects\n",
    "# machine = pickle.load(open(os.path.join(experiment_path_root, experiment, \"machine\", \"machine.pkl\"), 'rb'))\n",
    "# impute_pipe = pickle.load(open(os.path.join(experiment_path_root, experiment, \"transformers\", \"impute_pipe.pkl\"), 'rb'))\n",
    "# polynomial_pipe = pickle.load(open(os.path.join(experiment_path_root, experiment, \"transformers\", \"polynomial_pipe.pkl\"), 'rb'))\n",
    "# encode_pipe = pickle.load(open(os.path.join(experiment_path_root, experiment, \"transformers\", \"encode_pipe.pkl\"), 'rb'))\n",
    "# target_encode_pipe = pickle.load(open(os.path.join(experiment_path_root, experiment, \"transformers\", \"target_encode_pipe.pkl\"), 'rb'))\n",
    "# skew_pipe = pickle.load(open(os.path.join(experiment_path_root, experiment, \"transformers\", \"skew_pipe.pkl\"), 'rb'))\n",
    "# scale_pipe = pickle.load(open(os.path.join(experiment_path_root, experiment, \"transformers\", \"scale_pipe.pkl\"), 'rb'))\n",
    "# fs = pickle.load(open(os.path.join(experiment_path_root, experiment, \"feature_selection\", \"FeatureSelector.pkl\"), 'rb'))\n"
   ]
  },
  {
   "cell_type": "markdown",
   "metadata": {},
   "source": [
    "## Data"
   ]
  },
  {
   "cell_type": "markdown",
   "metadata": {},
   "source": [
    "### Load & review dataset"
   ]
  },
  {
   "cell_type": "code",
   "execution_count": null,
   "metadata": {
    "ExecuteTime": {
     "end_time": "2020-02-11T04:19:11.036499Z",
     "start_time": "2020-02-11T04:19:11.009482Z"
    }
   },
   "outputs": [],
   "source": [
    "# load and inspect data\n",
    "dataset = load_wine()\n",
    "dataset = pd.merge(\n",
    "                pd.DataFrame(\n",
    "                    dataset.data,\n",
    "                    columns=dataset.feature_names\n",
    "                ),\n",
    "                pd.Series(dataset.target, name=\"target\"),\n",
    "                left_index=True,\n",
    "                right_index=True\n",
    "            )\n"
   ]
  },
  {
   "cell_type": "code",
   "execution_count": null,
   "metadata": {},
   "outputs": [],
   "source": [
    "# display info and first 5 rows\n",
    "dataset.info()\n",
    "display(dataset[:5])\n"
   ]
  },
  {
   "cell_type": "code",
   "execution_count": null,
   "metadata": {},
   "outputs": [],
   "source": [
    "# review counts of different column types\n",
    "dataset.dtypes.value_counts()\n"
   ]
  },
  {
   "cell_type": "markdown",
   "metadata": {},
   "source": [
    "### Create machine object"
   ]
  },
  {
   "cell_type": "code",
   "execution_count": null,
   "metadata": {
    "ExecuteTime": {
     "end_time": "2020-02-11T04:19:11.179231Z",
     "start_time": "2020-02-11T04:19:11.123818Z"
    },
    "scrolled": true
   },
   "outputs": [],
   "source": [
    "#\n",
    "df_train, df_valid = mlm.train_test_df_compile(data=dataset, target_col=\"target\")\n",
    "\n",
    "#\n",
    "continuous_columns = list(df_train.columns)[:-1]\n",
    "\n",
    "#\n",
    "machine = mlm.Machine(\n",
    "    experiment_name=\"wine_classification\",\n",
    "    training_dataset=df_train,\n",
    "    validation_dataset=df_valid,    \n",
    "    target=\"target\",\n",
    "    identify_as_continuous=continuous_columns,\n",
    "    is_classification=True,\n",
    "    create_experiment_dir=True,\n",
    ")\n"
   ]
  },
  {
   "cell_type": "code",
   "execution_count": null,
   "metadata": {},
   "outputs": [],
   "source": [
    "# review mlm dtypes\n",
    "machine.training_features.mlm_dtypes\n"
   ]
  },
  {
   "cell_type": "markdown",
   "metadata": {},
   "source": [
    "# EDA"
   ]
  },
  {
   "cell_type": "markdown",
   "metadata": {},
   "source": [
    "## Category feature EDA"
   ]
  },
  {
   "cell_type": "code",
   "execution_count": null,
   "metadata": {},
   "outputs": [],
   "source": []
  },
  {
   "cell_type": "markdown",
   "metadata": {},
   "source": [
    "## Count feature EDA"
   ]
  },
  {
   "cell_type": "code",
   "execution_count": null,
   "metadata": {},
   "outputs": [],
   "source": []
  },
  {
   "cell_type": "markdown",
   "metadata": {},
   "source": [
    "## Continuous feature EDA"
   ]
  },
  {
   "cell_type": "code",
   "execution_count": null,
   "metadata": {
    "ExecuteTime": {
     "end_time": "2020-02-11T04:19:23.522944Z",
     "start_time": "2020-02-11T04:19:11.238152Z"
    },
    "scrolled": true
   },
   "outputs": [],
   "source": [
    "# continuous features\n",
    "for feature in machine.training_features.mlm_dtypes[\"continuous\"]:\n",
    "    machine.eda_cat_target_num_feat(\n",
    "        feature=feature,\n",
    "        outliers_out_of_scope=5,\n",
    "        chart_scale=12,\n",
    "        training_data=True,\n",
    "    )\n"
   ]
  },
  {
   "cell_type": "code",
   "execution_count": null,
   "metadata": {},
   "outputs": [],
   "source": [
    "# continuous features\n",
    "machine.eda(save_plots=True)\n"
   ]
  },
  {
   "cell_type": "markdown",
   "metadata": {},
   "source": [
    "### Correlation"
   ]
  },
  {
   "cell_type": "code",
   "execution_count": null,
   "metadata": {
    "ExecuteTime": {
     "end_time": "2020-02-11T04:19:25.304183Z",
     "start_time": "2020-02-11T04:19:24.637731Z"
    }
   },
   "outputs": [],
   "source": [
    "# correlation heat map\n",
    "p = PrettierPlot()\n",
    "ax = p.make_canvas()\n",
    "p.corr_heatmap(\n",
    "    df=machine.recombine_data(training_data=True),\n",
    "    annot=True,\n",
    "    ax=ax,\n",
    ")\n"
   ]
  },
  {
   "cell_type": "code",
   "execution_count": null,
   "metadata": {
    "ExecuteTime": {
     "end_time": "2020-02-11T04:19:25.863313Z",
     "start_time": "2020-02-11T04:19:25.306155Z"
    }
   },
   "outputs": [],
   "source": [
    "# correlation heat map with most highly correlated features relative to the target\n",
    "p = PrettierPlot(plot_orientation='tall',chart_scale=10)\n",
    "ax = p.make_canvas()\n",
    "p.corr_heatmap_target(\n",
    "    df=machine.training_features,\n",
    "    target=machine.training_target,\n",
    "    thresh=0.01,\n",
    "    annot=True,\n",
    "    ax=ax,\n",
    ")\n"
   ]
  },
  {
   "cell_type": "markdown",
   "metadata": {},
   "source": [
    "### Pair plot"
   ]
  },
  {
   "cell_type": "code",
   "execution_count": null,
   "metadata": {
    "ExecuteTime": {
     "end_time": "2020-02-11T04:20:03.032767Z",
     "start_time": "2020-02-11T04:19:25.865753Z"
    }
   },
   "outputs": [],
   "source": [
    "\n",
    "# pair plot\n",
    "p = PrettierPlot(chart_scale=15)\n",
    "p.pair_plot(\n",
    "    df=machine.training_features,\n",
    "    columns=machine.training_features.mlm_dtypes['continuous'],\n",
    "    target=machine.training_target,\n",
    "    diag_kind=\"auto\",\n",
    "    legend_labels=[\"Died\",\"Survived\"],\n",
    ")\n"
   ]
  },
  {
   "cell_type": "code",
   "execution_count": null,
   "metadata": {
    "ExecuteTime": {
     "end_time": "2020-02-11T04:20:54.807955Z",
     "start_time": "2020-02-11T04:20:03.035039Z"
    }
   },
   "outputs": [],
   "source": [
    "# pair plot\n",
    "p = PrettierPlot(chart_scale=12)\n",
    "p.pair_plot(\n",
    "    df=machine.training_features.dropna(),\n",
    "    diag_kind=\"kde\",\n",
    "    target=machine.training_target,\n",
    "    columns=machine.training_features.mlm_dtypes['continuous'][:5],\n",
    "    bbox=(2.0, 0.0),\n",
    ")"
   ]
  },
  {
   "cell_type": "markdown",
   "metadata": {},
   "source": [
    "## Faceting"
   ]
  },
  {
   "cell_type": "code",
   "execution_count": null,
   "metadata": {},
   "outputs": [],
   "source": []
  },
  {
   "cell_type": "markdown",
   "metadata": {},
   "source": [
    "## Target variable evaluation"
   ]
  },
  {
   "cell_type": "code",
   "execution_count": null,
   "metadata": {
    "ExecuteTime": {
     "end_time": "2020-02-11T04:20:54.816344Z",
     "start_time": "2020-02-11T04:20:54.810062Z"
    }
   },
   "outputs": [],
   "source": [
    "# null score\n",
    "pd.Series(machine.training_target).value_counts(normalize=True)\n"
   ]
  },
  {
   "cell_type": "markdown",
   "metadata": {},
   "source": [
    "# Data preparation"
   ]
  },
  {
   "cell_type": "markdown",
   "metadata": {},
   "source": [
    "## Missing data\n",
    "\n",
    "No missing data\n"
   ]
  },
  {
   "cell_type": "markdown",
   "metadata": {},
   "source": [
    "### Training"
   ]
  },
  {
   "cell_type": "code",
   "execution_count": null,
   "metadata": {
    "ExecuteTime": {
     "end_time": "2020-02-11T04:20:54.824666Z",
     "start_time": "2020-02-11T04:20:54.818385Z"
    },
    "scrolled": true
   },
   "outputs": [],
   "source": [
    "# evaluate missing data\n",
    "machine.eda_missing_summary()\n"
   ]
  },
  {
   "cell_type": "markdown",
   "metadata": {},
   "source": [
    "### Validation"
   ]
  },
  {
   "cell_type": "code",
   "execution_count": null,
   "metadata": {
    "ExecuteTime": {
     "end_time": "2020-02-11T04:20:54.833659Z",
     "start_time": "2020-02-11T04:20:54.826632Z"
    },
    "scrolled": true
   },
   "outputs": [],
   "source": [
    "# evaluate missing data\n",
    "machine.eda_missing_summary()\n"
   ]
  },
  {
   "cell_type": "markdown",
   "metadata": {},
   "source": [
    "### Training vs. validation"
   ]
  },
  {
   "cell_type": "code",
   "execution_count": null,
   "metadata": {},
   "outputs": [],
   "source": []
  },
  {
   "cell_type": "markdown",
   "metadata": {},
   "source": [
    "### Impute"
   ]
  },
  {
   "cell_type": "code",
   "execution_count": null,
   "metadata": {
    "ExecuteTime": {
     "end_time": "2019-07-20T21:36:27.353587Z",
     "start_time": "2019-07-20T21:36:27.123813Z"
    }
   },
   "outputs": [],
   "source": []
  },
  {
   "cell_type": "markdown",
   "metadata": {},
   "source": [
    "## Feature engineering"
   ]
  },
  {
   "cell_type": "markdown",
   "metadata": {},
   "source": [
    "### Handcrafted"
   ]
  },
  {
   "cell_type": "code",
   "execution_count": null,
   "metadata": {},
   "outputs": [],
   "source": []
  },
  {
   "cell_type": "markdown",
   "metadata": {},
   "source": [
    "### Polynomial features"
   ]
  },
  {
   "cell_type": "code",
   "execution_count": null,
   "metadata": {
    "ExecuteTime": {
     "end_time": "2020-02-11T04:20:55.137632Z",
     "start_time": "2020-02-11T04:20:54.835853Z"
    }
   },
   "outputs": [],
   "source": [
    "# # transform pipe\n",
    "# polynomial_pipe = PandasFeatureUnion([\n",
    "#     (\"polynomial\", make_pipeline(\n",
    "#         DataFrameSelector(include_mlm_dtypes=[\"continuous\"]),\n",
    "#         PandasTransformer(PolynomialFeatures(degree=2, interaction_only=False, include_bias=False)),\n",
    "#     )),\n",
    "#     (\"diff\", make_pipeline(\n",
    "#         DataFrameSelector(exclude_mlm_dtypes=[\"continuous\"], exclude_columns=[\"Name\",\"Cabin\"]),\n",
    "#     )),\n",
    "# ])\n",
    "\n",
    "# # fit & save objects\n",
    "# polynomial_pipe.fit(machine.training_features)\n",
    "# with open(os.path.join(machine.current_experiment_dir, \"transformers\", \"polynomial_pipe.pkl\"), 'wb') as handle:\n",
    "#     pickle.dump(polynomial_pipe, handle, protocol=pickle.HIGHEST_PROTOCOL)\n",
    "\n",
    "# # transform datasets\n",
    "# machine.training_features = polynomial_pipe.fit_transform(machine.training_features)\n",
    "# machine.validation_features = polynomial_pipe.transform(machine.validation_features)\n",
    "\n",
    "# machine.update_dtypes()\n"
   ]
  },
  {
   "cell_type": "markdown",
   "metadata": {},
   "source": [
    "### Encoding"
   ]
  },
  {
   "cell_type": "markdown",
   "metadata": {},
   "source": [
    "#### Evaluate"
   ]
  },
  {
   "cell_type": "code",
   "execution_count": null,
   "metadata": {},
   "outputs": [],
   "source": []
  },
  {
   "cell_type": "markdown",
   "metadata": {},
   "source": [
    "#### Encode"
   ]
  },
  {
   "cell_type": "code",
   "execution_count": null,
   "metadata": {
    "ExecuteTime": {
     "end_time": "2020-02-11T04:21:42.121929Z",
     "start_time": "2020-02-11T04:21:41.709625Z"
    }
   },
   "outputs": [],
   "source": [
    "# # encode pipeline\n",
    "# encode_pipe = PandasFeatureUnion([\n",
    "#     (\"bin\", make_pipeline(\n",
    "#         DataFrameSelector(include_columns=machine.training_features.mlm_dtypes[\"continuous\"]),\n",
    "#         PandasTransformer(KBinsDiscretizer(encode=\"ordinal\")),\n",
    "#     )),\n",
    "# #     (\"diff\", make_pipeline(\n",
    "# #         DataFrameSelector(exclude_columns=machine.training_features.mlm_dtypes[\"nominal\"] + list(ordinal_encodings.keys())),\n",
    "# #     )),\n",
    "# ])\n",
    "\n",
    "# # fit & save objects\n",
    "# encode_pipe.fit(machine.training_features)\n",
    "# with open(os.path.join(machine.current_experiment_dir, \"transformers\", \"encode_pipe.pkl\"), 'wb') as handle:\n",
    "#     pickle.dump(encode_pipe, handle, protocol=pickle.HIGHEST_PROTOCOL)\n",
    "\n",
    "# # transform datasets\n",
    "# machine.training_features = encode_pipe.fit_transform(machine.training_features)\n",
    "# machine.validation_features = encode_pipe.transform(machine.validation_features)\n",
    "\n",
    "# machine.update_dtypes()\n"
   ]
  },
  {
   "cell_type": "markdown",
   "metadata": {},
   "source": [
    "## Feature transformation"
   ]
  },
  {
   "cell_type": "markdown",
   "metadata": {},
   "source": [
    "### Skew correction"
   ]
  },
  {
   "cell_type": "code",
   "execution_count": null,
   "metadata": {
    "ExecuteTime": {
     "end_time": "2020-02-11T04:20:55.562135Z",
     "start_time": "2020-02-11T04:18:59.136Z"
    },
    "scrolled": true
   },
   "outputs": [],
   "source": [
    "# evaluate skew of number features - training data\n",
    "machine.skew_summary()"
   ]
  },
  {
   "cell_type": "code",
   "execution_count": null,
   "metadata": {
    "ExecuteTime": {
     "end_time": "2020-02-11T04:20:55.563826Z",
     "start_time": "2020-02-11T04:18:59.138Z"
    },
    "scrolled": true
   },
   "outputs": [],
   "source": [
    "# evaluate skew of number features - validation data\n",
    "machine.skew_summary()"
   ]
  },
  {
   "cell_type": "code",
   "execution_count": null,
   "metadata": {
    "ExecuteTime": {
     "end_time": "2020-02-11T04:20:55.565466Z",
     "start_time": "2020-02-11T04:18:59.140Z"
    }
   },
   "outputs": [],
   "source": [
    "# skew correction pipeline\n",
    "skew_pipe = PandasFeatureUnion([\n",
    "    (\"skew\", make_pipeline(\n",
    "        DataFrameSelector(include_mlm_dtypes=[\"continuous\"]),\n",
    "        DualTransformer(),\n",
    "    )),    \n",
    "    (\"diff\", make_pipeline(\n",
    "        DataFrameSelector(exclude_mlm_dtypes=[\"continuous\"]),\n",
    "    )),\n",
    "])\n",
    "\n",
    "# # fit & save objects\n",
    "# skew_pipe.fit(machine.training_features)\n",
    "# with open(os.path.join(machine.current_experiment_dir, \"transformers\", \"skew_pipe.pkl\"), 'wb') as handle:\n",
    "#     pickle.dump(skew_pipe, handle, protocol=pickle.HIGHEST_PROTOCOL)\n",
    "\n",
    "# # transform datasets\n",
    "# machine.training_features = skew_pipe.fit_transform(machine.training_features)\n",
    "# machine.validation_features = skew_pipe.transform(machine.validation_features)\n",
    "\n",
    "# machine.update_dtypes()\n"
   ]
  },
  {
   "cell_type": "markdown",
   "metadata": {},
   "source": [
    "### Scaling"
   ]
  },
  {
   "cell_type": "code",
   "execution_count": null,
   "metadata": {
    "ExecuteTime": {
     "end_time": "2020-02-11T04:20:55.567015Z",
     "start_time": "2020-02-11T04:18:59.144Z"
    }
   },
   "outputs": [],
   "source": [
    "#\n",
    "scale_pipe = PandasFeatureUnion([\n",
    "    (\"scale\", make_pipeline(\n",
    "        DataFrameSelector(),\n",
    "        PandasTransformer(RobustScaler())\n",
    "    )),\n",
    "])\n",
    "\n",
    "# fit & save objects\n",
    "scale_pipe.fit(machine.training_features)\n",
    "with open(os.path.join(machine.current_experiment_dir, \"transformers\", \"scale_pipe.pkl\"), 'wb') as handle:\n",
    "    pickle.dump(scale_pipe, handle, protocol=pickle.HIGHEST_PROTOCOL)\n",
    "\n",
    "# transform datasets\n",
    "machine.training_features = scale_pipe.fit_transform(machine.training_features)\n",
    "machine.validation_features = scale_pipe.transform(machine.validation_features)\n",
    "\n",
    "machine.update_dtypes()\n"
   ]
  },
  {
   "cell_type": "markdown",
   "metadata": {},
   "source": [
    "## Outliers\n"
   ]
  },
  {
   "cell_type": "code",
   "execution_count": null,
   "metadata": {
    "ExecuteTime": {
     "end_time": "2020-02-11T04:20:55.568648Z",
     "start_time": "2020-02-11T04:18:59.147Z"
    }
   },
   "outputs": [],
   "source": [
    "# identify outliers using IQR\n",
    "train_pipe = Pipeline([\n",
    "    (\"outlier\",machine.OutlierIQR(\n",
    "                outlier_count=5,\n",
    "                iqr_step=1.5,\n",
    "                features=machine.training_features.mlm_dtypes[\"continuous\"],\n",
    "                drop_outliers=False,))\n",
    "    ])\n",
    "machine.training_features = train_pipe.transform(machine.training_features)\n",
    "\n",
    "# capture outliers\n",
    "iqr_outliers = np.array(sorted(train_pipe.named_steps[\"outlier\"].outliers))\n",
    "print(iqr_outliers)"
   ]
  },
  {
   "cell_type": "code",
   "execution_count": null,
   "metadata": {
    "ExecuteTime": {
     "end_time": "2020-02-11T04:20:55.570285Z",
     "start_time": "2020-02-11T04:18:59.149Z"
    }
   },
   "outputs": [],
   "source": [
    "# identify outliers using Isolation Forest\n",
    "clf = IsolationForest(\n",
    "#     behaviour=\"new\",\n",
    "    max_samples=machine.training_features.shape[0],\n",
    "    random_state=0,\n",
    "    contamination=0.01\n",
    ")\n",
    "clf.fit(machine.training_features[machine.training_features.columns])\n",
    "preds = clf.predict(machine.training_features[machine.training_features.columns])\n",
    "\n",
    "# evaluate index values\n",
    "mask = np.isin(preds, -1)\n",
    "if_outliers = np.array(machine.training_features[mask].index)\n",
    "print(if_outliers)"
   ]
  },
  {
   "cell_type": "code",
   "execution_count": null,
   "metadata": {
    "ExecuteTime": {
     "end_time": "2020-02-11T04:20:55.571703Z",
     "start_time": "2020-02-11T04:18:59.152Z"
    }
   },
   "outputs": [],
   "source": [
    "# identify outliers using extended isolation forest\n",
    "train_pipe = Pipeline([\n",
    "    (\"outlier\",machine.ExtendedIsoForest(\n",
    "                columns=machine.training_features.mlm_dtypes[\"continuous\"],\n",
    "                n_trees=100,\n",
    "                sample_size=int(np.ceil(machine.training_features.shape[0] * .25)),\n",
    "                extension_level=1,\n",
    "                anomalies_ratio=0.03,\n",
    "                drop_outliers=False,))\n",
    "    ])\n",
    "machine.training_features = train_pipe.transform(machine.training_features)\n",
    "\n",
    "# capture outliers\n",
    "eif_outliers = np.array(sorted(train_pipe.named_steps[\"outlier\"].outliers))\n",
    "print(eif_outliers)"
   ]
  },
  {
   "cell_type": "code",
   "execution_count": null,
   "metadata": {
    "ExecuteTime": {
     "end_time": "2020-02-11T04:20:55.573224Z",
     "start_time": "2020-02-11T04:18:59.154Z"
    }
   },
   "outputs": [],
   "source": [
    "# identify outliers that are identified in multiple algorithms\n",
    "outliers = reduce(np.intersect1d, (iqr_outliers, if_outliers, eif_outliers))\n",
    "# outliers = reduce(np.intersect1d, (if_outliers, eif_outliers))\n",
    "print(outliers)"
   ]
  },
  {
   "cell_type": "code",
   "execution_count": null,
   "metadata": {
    "ExecuteTime": {
     "end_time": "2020-02-11T04:20:55.574604Z",
     "start_time": "2020-02-11T04:18:59.156Z"
    },
    "scrolled": true
   },
   "outputs": [],
   "source": [
    "# review outlier identification summary\n",
    "outlier_summary = machine.outlier_summary(iqr_outliers=iqr_outliers,\n",
    "                             if_outliers=if_outliers,\n",
    "                             eif_outliers=eif_outliers\n",
    "                            )\n",
    "outlier_summary[outlier_summary[\"count\"] >= 3]"
   ]
  },
  {
   "cell_type": "code",
   "execution_count": null,
   "metadata": {
    "ExecuteTime": {
     "end_time": "2020-02-11T04:20:55.576099Z",
     "start_time": "2020-02-11T04:18:59.159Z"
    }
   },
   "outputs": [],
   "source": [
    "# remove outlers from predictors and response\n",
    "outliers = np.array([59,121])\n",
    "machine.training_features = machine.training_features.drop(outliers)\n",
    "machine.training_target = machine.training_target.drop(index=outliers)"
   ]
  },
  {
   "cell_type": "markdown",
   "metadata": {},
   "source": [
    "## Additional exploratory data analysis"
   ]
  },
  {
   "cell_type": "code",
   "execution_count": null,
   "metadata": {
    "ExecuteTime": {
     "end_time": "2020-02-10T14:56:56.197100Z",
     "start_time": "2020-02-10T14:56:55.378722Z"
    }
   },
   "outputs": [],
   "source": [
    "# correlation heat map with most highly correlated features relative to the target\n",
    "p = PrettierPlot(plot_orientation='tall',chart_scale=10)\n",
    "ax = p.make_canvas()\n",
    "p.corr_heatmap_target(\n",
    "    df=machine.training_features,\n",
    "    target=machine.training_target,\n",
    "    thresh=0.7,\n",
    "    annot=True,\n",
    "    ax=ax,\n",
    ")"
   ]
  },
  {
   "cell_type": "markdown",
   "metadata": {},
   "source": [
    "## Machine checkpoint"
   ]
  },
  {
   "cell_type": "code",
   "execution_count": null,
   "metadata": {},
   "outputs": [],
   "source": [
    "# save machine object\n",
    "with open(os.path.join(machine.current_experiment_dir, \"machine\", \"machine.pkl\"), 'wb') as handle:\n",
    "    pickle.dump(machine, handle, protocol=pickle.HIGHEST_PROTOCOL)\n"
   ]
  },
  {
   "cell_type": "markdown",
   "metadata": {},
   "source": [
    "# Feature selection"
   ]
  },
  {
   "cell_type": "code",
   "execution_count": null,
   "metadata": {
    "ExecuteTime": {
     "end_time": "2020-02-02T04:27:53.617971Z",
     "start_time": "2020-02-02T04:25:03.788776Z"
    }
   },
   "outputs": [],
   "source": [
    "# generate feature importance summary\n",
    "estimators = [\n",
    "    LGBMClassifier,\n",
    "    RandomForestClassifier,\n",
    "    GradientBoostingClassifier,\n",
    "    XGBClassifier,\n",
    "]\n",
    "\n",
    "fs = machine.FeatureSelector(\n",
    "    training_features=machine.training_features,\n",
    "    training_target=machine.training_target,\n",
    "    validation_features=machine.validation_features,\n",
    "    validation_target=machine.validation_target,\n",
    "    estimators=estimators,\n",
    "    experiment_dir=machine.current_experiment_dir,\n",
    ")\n",
    "\n",
    "fs.feature_selector_suite(\n",
    "    sequential_scoring=[\"accuracy\"],\n",
    "#     sequential_scoring=[\"accuracy\",\"precision\",\"recall\",\"roc_auc\"],\n",
    "    n_jobs=4,\n",
    "    save_to_csv=True,\n",
    "    verbose=True,\n",
    ")\n"
   ]
  },
  {
   "cell_type": "code",
   "execution_count": null,
   "metadata": {
    "ExecuteTime": {
     "end_time": "2020-01-29T05:41:33.083408Z",
     "start_time": "2020-01-29T05:41:02.760122Z"
    }
   },
   "outputs": [],
   "source": [
    "# calculate cross-validation performance\n",
    "fs.run_cross_val(\n",
    "    estimators=estimators,\n",
    "    scoring=[\"accuracy\"],\n",
    "    n_folds=5,\n",
    "    step=1,\n",
    "    n_jobs=2,\n",
    "    save_to_csv=True,\n",
    ")\n"
   ]
  },
  {
   "cell_type": "markdown",
   "metadata": {},
   "source": [
    "## Accuracy"
   ]
  },
  {
   "cell_type": "code",
   "execution_count": null,
   "metadata": {
    "ExecuteTime": {
     "end_time": "2020-01-29T05:42:07.849697Z",
     "start_time": "2020-01-29T05:42:07.367977Z"
    }
   },
   "outputs": [],
   "source": [
    "# visualize CV performance for diminishing feature set\n",
    "fs.plot_results(\n",
    "    scoring=\"accuracy\",\n",
    "    title_scale=0.8,\n",
    "    save_plots=True\n",
    ")\n"
   ]
  },
  {
   "cell_type": "code",
   "execution_count": null,
   "metadata": {
    "ExecuteTime": {
     "end_time": "2020-01-29T05:42:40.662957Z",
     "start_time": "2020-01-29T05:42:40.607481Z"
    },
    "scrolled": true
   },
   "outputs": [],
   "source": [
    "#\n",
    "fs.create_cross_val_features_df(scoring=\"accuracy\")\n",
    "# fs.cross_val_features_df\n"
   ]
  },
  {
   "cell_type": "code",
   "execution_count": null,
   "metadata": {},
   "outputs": [],
   "source": [
    "#\n",
    "fs.create_cross_val_features_dict(scoring=\"accuracy\")\n",
    "fs.cross_val_features_dict\n"
   ]
  },
  {
   "cell_type": "code",
   "execution_count": null,
   "metadata": {},
   "outputs": [],
   "source": [
    "# save feature selector\n",
    "with open(os.path.join(machine.current_experiment_dir, \"feature_selection\", \"FeatureSelector.pkl\"), 'wb') as handle:\n",
    "    pickle.dump(fs, handle, protocol=pickle.HIGHEST_PROTOCOL)\n"
   ]
  },
  {
   "cell_type": "markdown",
   "metadata": {},
   "source": [
    "# Modeling"
   ]
  },
  {
   "cell_type": "markdown",
   "metadata": {},
   "source": [
    "## Data preparation"
   ]
  },
  {
   "cell_type": "code",
   "execution_count": null,
   "metadata": {
    "ExecuteTime": {
     "end_time": "2020-02-01T05:26:42.024331Z",
     "start_time": "2020-02-01T05:26:41.588172Z"
    },
    "code_folding": [
     7
    ]
   },
   "outputs": [],
   "source": [
    "#################################################################################\n",
    "# import data\n",
    "dataset = load_wine()\n",
    "dataset = pd.merge(pd.DataFrame(dataset.data, columns=dataset.feature_names), pd.Series(dataset.target, name=\"Class label\"), left_index=True, right_index=True)\n",
    "\n",
    "# create training and validation datasets\n",
    "df_train, df_valid = mlm.train_test_df_compile(data=dataset, target_col='Class label')\n",
    "\n",
    "# load training data object\n",
    "train = mlm.Machine(\n",
    "    data=df_train,\n",
    "    identify_as_continuous=['magnesium', 'proline'],\n",
    "    target=\"Class label\",\n",
    "    target_type=\"category\",\n",
    ")\n",
    "\n",
    "# load valid data object\n",
    "valid = mlm.Machine(\n",
    "    data=df_valid,\n",
    "    identify_as_continuous=['magnesium', 'proline'],\n",
    "    target=\"Class label\",\n",
    ")\n",
    "\n",
    "#################################################################################\n",
    "# feature transformation pipeline\n",
    "# transform pipe\n",
    "polynomial_pipe = PandasFeatureUnion([\n",
    "    (\"polynomial\", make_pipeline(\n",
    "        DataFrameSelector(include_mlm_dtypes=[\"continuous\"]),\n",
    "        PandasTransformer(PolynomialFeatures(degree=2, interaction_only=False, include_bias=False)),\n",
    "    )),\n",
    "    (\"diff\", make_pipeline(\n",
    "        DataFrameSelector(exclude_mlm_dtypes=[\"continuous\"], exclude_columns=[\"Name\",\"Cabin\"]),\n",
    "    )),\n",
    "])\n",
    "\n",
    "machine.training_features = polynomial_pipe.fit_transform(machine.training_features)\n",
    "machine.validation_features = polynomial_pipe.transform(machine.validation_features)\n",
    "\n",
    "machine.update_dtypes()\n",
    "\n",
    "\n",
    "# skew correction pipeline\n",
    "skew_pipe = PandasFeatureUnion([\n",
    "    (\"skew\", make_pipeline(\n",
    "        DataFrameSelector(include_mlm_dtypes=[\"continuous\"]),\n",
    "        DualTransformer(),\n",
    "    )),    \n",
    "    (\"diff\", make_pipeline(\n",
    "        DataFrameSelector(exclude_mlm_dtypes=[\"continuous\"]),\n",
    "    )),\n",
    "])\n",
    "\n",
    "# machine.training_features = skew_pipe.fit_transform(machine.training_features)\n",
    "# machine.validation_features = skew_pipe.transform(machine.validation_features)\n",
    "\n",
    "# machine.update_dtypes()\n",
    "# \n",
    "\n",
    "#\n",
    "scale_pipe = PandasFeatureUnion([\n",
    "    (\"scale\", make_pipeline(\n",
    "        DataFrameSelector(),\n",
    "        PandasTransformer(RobustScaler())\n",
    "    )),\n",
    "])\n",
    "\n",
    "machine.training_features = scale_pipe.fit_transform(machine.training_features)\n",
    "machine.validation_features = scale_pipe.transform(machine.validation_features)\n",
    "\n",
    "machine.update_dtypes()\n",
    "\n",
    "\n",
    "\n",
    "#################################################################################\n",
    "# remove outliers\n",
    "outliers = np.array([59,121])\n",
    "machine.training_features = machine.training_features.drop(outliers)\n",
    "machine.training_target = machine.training_target.drop(index=outliers)\n",
    "\n",
    "print(\"completed\")"
   ]
  },
  {
   "cell_type": "markdown",
   "metadata": {},
   "source": [
    "## Bayesian hyper-parameter optimization"
   ]
  },
  {
   "cell_type": "code",
   "execution_count": null,
   "metadata": {
    "ExecuteTime": {
     "end_time": "2019-07-20T21:36:41.216961Z",
     "start_time": "2019-07-20T21:36:41.167069Z"
    },
    "code_folding": [
     1
    ]
   },
   "outputs": [],
   "source": [
    "# model/parameter space\n",
    "estimator_parameter_space = {\n",
    "    \"LGBMClassifier\": {\n",
    "        \"class_weight\": hp.choice(\"class_weight\", [None, \"balanced\"]),\n",
    "        \"colsample_bytree\": hp.uniform(\"colsample_bytree\", 0.5, 1.0),\n",
    "        \"boosting_type\": hp.choice(\"boosting_type\", [\"gbdt\", \"dart\", \"goss\"])\n",
    "        # ,'boosting_type': hp.choice('boosting_type'\n",
    "        #                    ,[{'boosting_type': 'gbdt', 'subsample': hp.uniform('gdbt_subsample', 0.5, 1)}\n",
    "        #                    ,{'boosting_type': 'dart', 'subsample': hp.uniform('dart_subsample', 0.5, 1)}\n",
    "        #                    ,{'boosting_type': 'goss', 'subsample': 1.0}])\n",
    "        ,\n",
    "        \"learning_rate\": hp.uniform(\"learning_rate\", 0.01, 0.3),\n",
    "        \"max_depth\": hp.choice(\"max_depth\", np.arange(2, 20, dtype=int)),\n",
    "        \"min_child_samples\": hp.uniform(\"min_child_samples\", 20, 500),\n",
    "        \"n_estimators\": hp.choice(\"n_estimators\", np.arange(100, 10000, 1, dtype=int)),\n",
    "        \"num_leaves\": hp.uniform(\"num_leaves\", 8, 150),\n",
    "        \"reg_alpha\": hp.uniform(\"reg_alpha\", 0.0, 1.5),\n",
    "        \"reg_lambda\": hp.uniform(\"reg_lambda\", 0.0, 1.0),\n",
    "        \"subsample_for_bin\": hp.uniform(\"subsample_for_bin\", 20000, 400000),\n",
    "    },\n",
    "#     \"LogisticRegression\": {\n",
    "#         \"C\": hp.loguniform(\"C\", np.log(0.001), np.log(0.2)),\n",
    "#         \"penalty\": hp.choice(\"penalty\", [\"l1\", \"l2\"]),\n",
    "#     },\n",
    "    \"XGBClassifier\": {\n",
    "        \"colsample_bytree\": hp.uniform(\"colsample_bytree\", 0.5, 1.0),\n",
    "        \"gamma\": hp.uniform(\"gamma\", 0.0, 10),\n",
    "        \"learning_rate\": hp.uniform(\"learning_rate\", 0.01, 0.3),\n",
    "        \"max_depth\": hp.choice(\"max_depth\", np.arange(2, 20, dtype=int)),\n",
    "        \"min_child_weight\": hp.uniform(\"min_child_weight\", 1, 20),\n",
    "        \"n_estimators\": hp.choice(\"n_estimators\", np.arange(100, 10000, 1, dtype=int)),\n",
    "        \"subsample\": hp.uniform(\"subsample\", 0.3, 1),\n",
    "    },\n",
    "    \"RandomForestClassifier\": {\n",
    "        \"bootstrap\": hp.choice(\"bootstrap\", [True, False]),\n",
    "        \"max_depth\": hp.choice(\"max_depth\", np.arange(2, 20, dtype=int)),\n",
    "        \"n_estimators\": hp.choice(\"n_estimators\", np.arange(100, 10000, 1, dtype=int)),\n",
    "        \"max_features\": hp.choice(\"max_features\", [\"auto\", \"sqrt\"]),\n",
    "        \"min_samples_split\": hp.choice(\n",
    "            \"min_samples_split\", np.arange(2, 40, dtype=int)\n",
    "        ),\n",
    "        \"min_samples_leaf\": hp.choice(\"min_samples_leaf\", np.arange(2, 40, dtype=int)),\n",
    "    },\n",
    "    \"GradientBoostingClassifier\": {\n",
    "        \"n_estimators\": hp.choice(\"n_estimators\", np.arange(100, 10000, 1, dtype=int)),\n",
    "        \"max_depth\": hp.choice(\"max_depth\", np.arange(2, 20, dtype=int)),\n",
    "        \"max_features\": hp.choice(\"max_features\", [\"auto\", \"sqrt\"]),\n",
    "        \"learning_rate\": hp.uniform(\"learning_rate\", 0.01, 0.3),\n",
    "        \"loss\": hp.choice(\"loss\", [\"deviance\", \"exponential\"]),\n",
    "        \"min_samples_split\": hp.choice(\n",
    "            \"min_samples_split\", np.arange(2, 40, dtype=int)\n",
    "        ),\n",
    "        \"min_samples_leaf\": hp.choice(\"min_samples_leaf\", np.arange(2, 40, dtype=int)),\n",
    "    },\n",
    "    \"AdaBoostClassifier\": {\n",
    "        \"n_estimators\": hp.choice(\"n_estimators\", np.arange(100, 10000, 1, dtype=int)),\n",
    "        \"learning_rate\": hp.uniform(\"learning_rate\", 0.01, 0.3),\n",
    "        \"algorithm\": hp.choice(\"algorithm\", [\"SAMME\", \"SAMME.R\"]),\n",
    "    },\n",
    "    \"ExtraTreesClassifier\": {\n",
    "        \"n_estimators\": hp.choice(\"n_estimators\", np.arange(100, 10000, 1, dtype=int)),\n",
    "        \"max_depth\": hp.choice(\"max_depth\", np.arange(2, 20, dtype=int)),\n",
    "        \"min_samples_split\": hp.choice(\n",
    "            \"min_samples_split\", np.arange(2, 40, dtype=int)\n",
    "        ),\n",
    "        \"min_samples_leaf\": hp.choice(\"min_samples_leaf\", np.arange(2, 40, dtype=int)),\n",
    "        \"max_features\": hp.choice(\"max_features\", [\"auto\", \"sqrt\"]),\n",
    "        \"criterion\": hp.choice(\"criterion\", [\"gini\", \"entropy\"]),\n",
    "    },\n",
    "    \"SVC\": {\n",
    "        \"C\": hp.uniform(\"C\", 0.001, 15),\n",
    "        \"decision_function_shape\": hp.choice(\"decision_function_shape\", [\"ovo\", \"ovr\"]),\n",
    "        \"gamma\": hp.uniform(\"gamma\", 0.000000001, 5),\n",
    "    },\n",
    "    \"KNeighborsClassifier\": {\n",
    "        \"algorithm\": hp.choice(\"algorithm\", [\"auto\", \"ball_tree\", \"kd_tree\", \"brute\"]),\n",
    "        \"n_neighbors\": hp.choice(\"n_neighbors\", np.arange(1, 20, dtype=int)),\n",
    "        \"weights\": hp.choice(\"weights\", [\"distance\", \"uniform\"]),\n",
    "    },\n",
    "}"
   ]
  },
  {
   "cell_type": "code",
   "execution_count": null,
   "metadata": {
    "ExecuteTime": {
     "end_time": "2019-07-20T06:10:48.964508Z",
     "start_time": "2019-07-20T04:43:54.172908Z"
    },
    "scrolled": true
   },
   "outputs": [],
   "source": [
    "# execute bayesian optimization grid search\n",
    "machine.exec_bayes_optim_search(\n",
    "    estimator_parameter_space=estimator_parameter_space,\n",
    "    training_features=machine.training_features,\n",
    "    training_target=machine.training_target,\n",
    "    validation_features=machine.validation_features,\n",
    "    validation_target=machine.validation_target,\n",
    "    scoring=\"accuracy\",\n",
    "    n_folds=5,\n",
    "    n_jobs=2,\n",
    "    iters=125,\n",
    "    show_progressbar=True,\n",
    "    columns=fs.cross_val_features_dict\n",
    ")\n",
    "\n",
    "# save Machine object\n",
    "with open(os.path.join(machine.current_experiment_dir, \"machine\", \"machine.pkl\"), 'wb') as handle:\n",
    "    pickle.dump(machine, handle, protocol=pickle.HIGHEST_PROTOCOL)\n"
   ]
  },
  {
   "cell_type": "markdown",
   "metadata": {},
   "source": [
    "### Model loss by iteration"
   ]
  },
  {
   "cell_type": "code",
   "execution_count": null,
   "metadata": {
    "ExecuteTime": {
     "end_time": "2019-07-20T21:30:59.839867Z",
     "start_time": "2019-07-20T21:30:54.281216Z"
    }
   },
   "outputs": [],
   "source": [
    "# model loss plot\n",
    "for estimator in np.unique(machine.bayes_optim_summary[\"estimator\"]):\n",
    "    machine.model_loss_plot(\n",
    "        bayes_optim_summary=machine.bayes_optim_summary,\n",
    "        estimator_class=estimator,\n",
    "        save_plots=True,\n",
    "    )\n",
    "    "
   ]
  },
  {
   "cell_type": "markdown",
   "metadata": {},
   "source": [
    "### Parameter selection by iteration"
   ]
  },
  {
   "cell_type": "code",
   "execution_count": null,
   "metadata": {
    "ExecuteTime": {
     "end_time": "2019-07-19T01:47:36.876677Z",
     "start_time": "2019-07-19T01:47:23.026068Z"
    }
   },
   "outputs": [],
   "source": [
    "# estimator parameter plots\n",
    "for estimator in np.unique(machine.bayes_optim_summary[\"estimator\"]):\n",
    "    machine.model_param_plot(\n",
    "        bayes_optim_summary=machine.bayes_optim_summary,\n",
    "        estimator_class=estimator,\n",
    "        estimator_parameter_space=estimator_parameter_space,\n",
    "        n_iter=1000,\n",
    "#         chart_scale=15,\n",
    "        title_scale=1.2,\n",
    "        save_plots=True\n",
    "    )\n"
   ]
  },
  {
   "cell_type": "code",
   "execution_count": null,
   "metadata": {
    "ExecuteTime": {
     "end_time": "2019-07-18T04:23:45.411641Z",
     "start_time": "2019-07-18T04:23:44.926648Z"
    }
   },
   "outputs": [],
   "source": [
    "sample_space = {\n",
    "                'param': hp.uniform('param', np.log(0.4), np.log(0.6))\n",
    "#     \"\": 0.000001 + hp.uniform(\"gamma\", 0.000001, 10)\n",
    "    #             'param2': hp.loguniform('param2', np.log(0.001), np.log(0.01))\n",
    "}\n",
    "\n",
    "machine.sample_plot(sample_space, 1000)"
   ]
  },
  {
   "cell_type": "markdown",
   "metadata": {},
   "source": [
    "## Model performance evaluation - standard models"
   ]
  },
  {
   "cell_type": "code",
   "execution_count": null,
   "metadata": {
    "ExecuteTime": {
     "end_time": "2019-07-20T21:36:59.047576Z",
     "start_time": "2019-07-20T21:36:59.013711Z"
    }
   },
   "outputs": [],
   "source": [
    "#\n",
    "top_models = machine.top_bayes_optim_models(\n",
    "                bayes_optim_summary=machine.bayes_optim_summary,\n",
    "                metric=\"validation_score\",\n",
    "                num_models=1,\n",
    "            )\n",
    "top_models\n"
   ]
  },
  {
   "cell_type": "code",
   "execution_count": null,
   "metadata": {
    "ExecuteTime": {
     "end_time": "2019-07-20T21:37:19.341306Z",
     "start_time": "2019-07-20T21:37:02.406940Z"
    },
    "scrolled": true
   },
   "outputs": [],
   "source": [
    "# classification panel, single model\n",
    "estimator = \"SVC\"; model_iter = 66\n",
    "# estimator = 'GradientBoostingClassifier'; model_iter = 590\n",
    "# estimator = 'XGBClassifier'; model_iter = 380\n",
    "\n",
    "model = machine.BayesOptimModelBuilder(\n",
    "    bayes_optim_summary=bayes_optim_summary, estimator=estimator, model_iter=model_iter\n",
    ")\n",
    "\n",
    "machine.binary_classification_panel(\n",
    "    model=model, X_train=machine.training_features, y_train=machine.training_target, labels=[0, 1], n_folds=4\n",
    ")"
   ]
  },
  {
   "cell_type": "code",
   "execution_count": null,
   "metadata": {},
   "outputs": [],
   "source": [
    "# create classification reports\n",
    "for estimator, model_iters in top_models.items():\n",
    "    for model_iter in model_iters:\n",
    "        model = machine.BayesOptimModelBuilder(\n",
    "            bayes_optim_summary=bayes_optim_summary,\n",
    "            estimator=estimator,\n",
    "            model_iter=model_iter,\n",
    "        )\n",
    "        machine.binary_classification_panel(\n",
    "            model=model, X_train=machine.training_features, y_train=machine.training_target, labels=[0, 1], n_folds=4\n",
    "        )"
   ]
  },
  {
   "cell_type": "markdown",
   "metadata": {},
   "source": [
    "# Model explanability"
   ]
  },
  {
   "cell_type": "code",
   "execution_count": null,
   "metadata": {},
   "outputs": [],
   "source": [
    "# \n",
    "estimator = \"ExtraTreesClassifier\"; model_iter = 145\n",
    "\n",
    "modelE = machine.BayesOptimModelBuilder(\n",
    "    bayes_optim_summary=bayes_optim_summary, estimator=estimator, model_iter=model_iter\n",
    ")\n",
    "\n",
    "modelE.fit(machine.training_features.values, machine.training_target.values)"
   ]
  },
  {
   "cell_type": "markdown",
   "metadata": {},
   "source": [
    "## Permutation importance"
   ]
  },
  {
   "cell_type": "code",
   "execution_count": null,
   "metadata": {
    "ExecuteTime": {
     "end_time": "2019-07-01T02:02:16.726938Z",
     "start_time": "2019-07-01T02:02:15.740Z"
    }
   },
   "outputs": [],
   "source": [
    "# permutation importance - how much does performance decrease when shuffling a certain feature?\n",
    "perm = PermutationImportance(modelR.model, random_state=1).fit(machine.training_features, machine.training_target)\n",
    "eli5.show_weights(perm, feature_names=feature_names)"
   ]
  },
  {
   "cell_type": "markdown",
   "metadata": {},
   "source": [
    "## Partial dependence plots"
   ]
  },
  {
   "cell_type": "code",
   "execution_count": null,
   "metadata": {
    "ExecuteTime": {
     "end_time": "2019-07-01T02:02:16.728503Z",
     "start_time": "2019-07-01T02:02:15.747Z"
    }
   },
   "outputs": [],
   "source": [
    "for feature in feature_names:\n",
    "    pdpFeature = pdp.pdp_isolate(\n",
    "        model=modelR.model, dataset=machine.training_features, model_features=feature_names, feature=feature\n",
    "    )\n",
    "\n",
    "    pdp.pdp_plot(pdpFeature, feature)\n",
    "    plt.rcParams[\"axes.facecolor\"] = \"white\"\n",
    "    plt.rcParams[\"figure.facecolor\"] = \"white\"\n",
    "\n",
    "    plt.grid(b=None)\n",
    "    plt.show()"
   ]
  },
  {
   "cell_type": "markdown",
   "metadata": {},
   "source": [
    "## SHAP"
   ]
  },
  {
   "cell_type": "markdown",
   "metadata": {},
   "source": [
    "### Training"
   ]
  },
  {
   "cell_type": "code",
   "execution_count": null,
   "metadata": {
    "ExecuteTime": {
     "end_time": "2019-07-01T02:02:16.735337Z",
     "start_time": "2019-07-01T02:02:15.771Z"
    }
   },
   "outputs": [],
   "source": [
    "for i in np.arange(0, 4):\n",
    "    machine.single_shap_viz_tree(obsIx=i, model=modelR, data=machine.training_features)"
   ]
  },
  {
   "cell_type": "code",
   "execution_count": null,
   "metadata": {
    "ExecuteTime": {
     "end_time": "2019-07-01T02:02:16.737217Z",
     "start_time": "2019-07-01T02:02:15.778Z"
    }
   },
   "outputs": [],
   "source": [
    "visual = machine.multi_shap_viz_tree(obs_ixs=np.arange(0, 800), model=modelR, data=machine.training_features)\n",
    "visual"
   ]
  },
  {
   "cell_type": "code",
   "execution_count": null,
   "metadata": {
    "ExecuteTime": {
     "end_time": "2019-07-01T02:02:16.738957Z",
     "start_time": "2019-07-01T02:02:15.784Z"
    }
   },
   "outputs": [],
   "source": [
    "obs_data, _, obs_shap_values = machine.multi_shap_value_tree(\n",
    "    obs_ixs=np.arange(0, 800), model=modelR, data=machine.training_features\n",
    ")\n",
    "machine.shap_dependence_plot(\n",
    "    obs_data=obs_data,\n",
    "    obs_shap_values=obs_shap_values,\n",
    "    scatter_feature=\"Fare\",\n",
    "    color_feature=\"Age\",\n",
    "    feature_names=machine.training_features.columns.tolist(),\n",
    ")"
   ]
  },
  {
   "cell_type": "code",
   "execution_count": null,
   "metadata": {},
   "outputs": [],
   "source": [
    "obs_data, _, obs_shap_values = machine.multi_shap_value_tree(\n",
    "    obs_ixs=np.arange(0, 800), model=modelL, data=machine.training_features\n",
    ")\n",
    "feature_names = machine.training_features.columns.tolist()\n",
    "top_shap = np.argsort(-np.sum(np.abs(obs_shap_values), 0))\n",
    "\n",
    "# generate force plot\n",
    "for top_ix in top_shap:\n",
    "    machine.shap_dependence_plot(\n",
    "        obs_data=obs_data,\n",
    "        obs_shap_values=obs_shap_values,\n",
    "        scatter_feature=feature_names[top_ix],\n",
    "        color_feature=\"Age\",\n",
    "        feature_names=feature_names,\n",
    "    )"
   ]
  },
  {
   "cell_type": "code",
   "execution_count": null,
   "metadata": {
    "ExecuteTime": {
     "end_time": "2019-07-01T02:02:16.740929Z",
     "start_time": "2019-07-01T02:02:15.789Z"
    }
   },
   "outputs": [],
   "source": [
    "obs_data, _, obs_shap_values = machine.multi_shap_value_tree(\n",
    "    obs_ixs=np.arange(0, 800), model=modelG, data=machine.training_features\n",
    ")\n",
    "feature_names = machine.training_features.columns.tolist()\n",
    "machine.shap_summary_plot(\n",
    "        obs_data=obs_data,\n",
    "        obs_shap_values=obs_shap_values,\n",
    "        feature_names=feature_names,\n",
    "    )"
   ]
  },
  {
   "cell_type": "markdown",
   "metadata": {},
   "source": [
    "### Validation"
   ]
  },
  {
   "cell_type": "code",
   "execution_count": null,
   "metadata": {},
   "outputs": [],
   "source": []
  },
  {
   "cell_type": "markdown",
   "metadata": {},
   "source": [
    "# Save objects"
   ]
  },
  {
   "cell_type": "code",
   "execution_count": null,
   "metadata": {},
   "outputs": [],
   "source": [
    "# \n",
    "with open(os.path.join(machine.current_experiment_dir, \"machine\", \"machine.pkl\"), 'wb') as handle:\n",
    "    pickle.dump(machine, handle, protocol=pickle.HIGHEST_PROTOCOL)\n",
    "\n",
    "with open(os.path.join(machine.current_experiment_dir, \"transformers\", \"impute_pipe.pkl\"), 'wb') as handle:\n",
    "    pickle.dump(impute_pipe, handle, protocol=pickle.HIGHEST_PROTOCOL)\n",
    "\n",
    "with open(os.path.join(machine.current_experiment_dir, \"transformers\", \"polynomial_pipe.pkl\"), 'wb') as handle:\n",
    "    pickle.dump(polynomial_pipe, handle, protocol=pickle.HIGHEST_PROTOCOL)\n",
    "\n",
    "with open(os.path.join(machine.current_experiment_dir, \"transformers\", \"encode_pipe.pkl\"), 'wb') as handle:\n",
    "    pickle.dump(encode_pipe, handle, protocol=pickle.HIGHEST_PROTOCOL)\n",
    "\n",
    "with open(os.path.join(machine.current_experiment_dir, \"transformers\", \"target_encode_pipe.pkl\"), 'wb') as handle:\n",
    "    pickle.dump(target_encode_pipe, handle, protocol=pickle.HIGHEST_PROTOCOL)\n",
    "\n",
    "# with open(os.path.join(machine.current_experiment_dir, \"transformers\", \"skew_pipe.pkl\"), 'wb') as handle:\n",
    "#     pickle.dump(skew_pipe, handle, protocol=pickle.HIGHEST_PROTOCOL)\n",
    "\n",
    "with open(os.path.join(machine.current_experiment_dir, \"transformers\", \"scale_pipe.pkl\"), 'wb') as handle:\n",
    "    pickle.dump(scale_pipe, handle, protocol=pickle.HIGHEST_PROTOCOL)\n",
    "    \n",
    "with open(os.path.join(machine.current_experiment_dir, \"feature_selection\", \"FeatureSelector.pkl\"), 'wb') as handle:\n",
    "    pickle.dump(fs, handle, protocol=pickle.HIGHEST_PROTOCOL)\n"
   ]
  },
  {
   "cell_type": "markdown",
   "metadata": {},
   "source": [
    "# Stacking"
   ]
  },
  {
   "cell_type": "markdown",
   "metadata": {},
   "source": [
    "## Primary models"
   ]
  },
  {
   "cell_type": "code",
   "execution_count": null,
   "metadata": {},
   "outputs": [],
   "source": [
    "# get out-of-fold predictions\n",
    "oof_train, oof_valid, columns = machine.model_stacker(\n",
    "    models=top_models,\n",
    "    bayes_optim_summary=bayes_optim_summary,\n",
    "    X_train=machine.training_features.values,\n",
    "    y_train=machine.training_target.values,\n",
    "    X_valid=machine.validation_features.values,\n",
    "    n_folds=10,\n",
    "    n_jobs=10,\n",
    ")"
   ]
  },
  {
   "cell_type": "code",
   "execution_count": null,
   "metadata": {},
   "outputs": [],
   "source": [
    "# view correlations of predictions\n",
    "p = PrettierPlot()\n",
    "ax = p.make_canvas()\n",
    "p.corr_heatmap(\n",
    "    df=pd.DataFrame(oof_train, columns=columns), annot=True, ax=ax, vmin=0\n",
    ")"
   ]
  },
  {
   "cell_type": "markdown",
   "metadata": {},
   "source": [
    "## Meta model"
   ]
  },
  {
   "cell_type": "code",
   "execution_count": null,
   "metadata": {
    "ExecuteTime": {
     "end_time": "2019-07-01T02:02:16.777169Z",
     "start_time": "2019-07-01T02:02:15.841Z"
    },
    "code_folding": [
     1
    ]
   },
   "outputs": [],
   "source": [
    "# parameter space\n",
    "estimator_parameter_space = {\n",
    "    \"LGBMClassifier\": {\n",
    "        \"class_weight\": hp.choice(\"class_weight\", [None]),\n",
    "        \"colsample_bytree\": hp.uniform(\"colsample_bytree\", 0.4, 0.7),\n",
    "        \"boosting_type\": hp.choice(\"boosting_type\", [\"dart\"]),\n",
    "        \"subsample\": hp.uniform(\"subsample\", 0.5, 1),\n",
    "        \"learning_rate\": hp.uniform(\"learning_rate\", 0.15, 0.25),\n",
    "        \"max_depth\": hp.choice(\"max_depth\", np.arange(4, 20, dtype=int)),\n",
    "        \"min_child_samples\": hp.quniform(\"min_child_samples\", 50, 150, 5),\n",
    "        \"n_estimators\": hp.choice(\"n_estimators\", np.arange(100, 4000, 10, dtype=int)),\n",
    "        \"num_leaves\": hp.quniform(\"num_leaves\", 30, 70, 1),\n",
    "        \"reg_alpha\": hp.uniform(\"reg_alpha\", 0.75, 1.25),\n",
    "        \"reg_lambda\": hp.uniform(\"reg_lambda\", 0.0, 1.0),\n",
    "        \"subsample_for_bin\": hp.quniform(\"subsample_for_bin\", 100000, 350000, 20000),\n",
    "    },\n",
    "    \"XGBClassifier\": {\n",
    "        \"colsample_bytree\": hp.uniform(\"colsample_bytree\", 0.4, 0.7),\n",
    "        \"gamma\": hp.quniform(\"gamma\", 0.0, 10, 0.05),\n",
    "        \"learning_rate\": hp.quniform(\"learning_rate\", 0.01, 0.2, 0.01),\n",
    "        \"max_depth\": hp.choice(\"max_depth\", np.arange(2, 15, dtype=int)),\n",
    "        \"min_child_weight\": hp.quniform(\"min_child_weight\", 2.5, 7.5, 1),\n",
    "        \"n_estimators\": hp.choice(\"n_estimators\", np.arange(100, 4000, 10, dtype=int)),\n",
    "        \"subsample\": hp.uniform(\"subsample\", 0.4, 0.7),\n",
    "    },\n",
    "    \"RandomForestClassifier\": {\n",
    "        \"bootstrap\": hp.choice(\"bootstrap\", [True, False]),\n",
    "        \"max_depth\": hp.choice(\"max_depth\", np.arange(2, 10, dtype=int)),\n",
    "        \"n_estimators\": hp.choice(\"n_estimators\", np.arange(100, 8000, 10, dtype=int)),\n",
    "        \"max_features\": hp.choice(\"max_features\", [\"sqrt\"]),\n",
    "        \"min_samples_split\": hp.choice(\n",
    "            \"min_samples_split\", np.arange(15, 25, dtype=int)\n",
    "        ),\n",
    "        \"min_samples_leaf\": hp.choice(\"min_samples_leaf\", np.arange(2, 20, dtype=int)),\n",
    "    },\n",
    "    \"GradientBoostingClassifier\": {\n",
    "        \"n_estimators\": hp.choice(\"n_estimators\", np.arange(100, 4000, 10, dtype=int)),\n",
    "        \"max_depth\": hp.choice(\"max_depth\", np.arange(2, 11, dtype=int)),\n",
    "        \"max_features\": hp.choice(\"max_features\", [\"sqrt\"]),\n",
    "        \"learning_rate\": hp.quniform(\"learning_rate\", 0.01, 0.09, 0.01),\n",
    "        \"loss\": hp.choice(\"loss\", [\"deviance\", \"exponential\"]),\n",
    "        \"min_samples_split\": hp.choice(\n",
    "            \"min_samples_split\", np.arange(2, 40, dtype=int)\n",
    "        ),\n",
    "        \"min_samples_leaf\": hp.choice(\"min_samples_leaf\", np.arange(2, 40, dtype=int)),\n",
    "    },\n",
    "    \"SVC\": {\n",
    "        \"C\": hp.uniform(\"C\", 0.00000001, 15),\n",
    "        \"decision_function_shape\": hp.choice(\"decision_function_shape\", [\"ovr\", \"ovo\"]),\n",
    "        \"gamma\": hp.uniform(\"gamma\", 0.00000001, 1.5),\n",
    "    },\n",
    "}"
   ]
  },
  {
   "cell_type": "code",
   "execution_count": null,
   "metadata": {
    "ExecuteTime": {
     "end_time": "2019-07-01T02:02:16.779160Z",
     "start_time": "2019-07-01T02:02:15.847Z"
    }
   },
   "outputs": [],
   "source": [
    "# execute bayesian optimization grid search\n",
    "machine.exec_bayes_optim_search(\n",
    "    estimator_parameter_space=estimator_parameter_space,\n",
    "    results_dir=\"{}_hyperopt_meta_{}.csv\".format(rundate, analysis),\n",
    "    X=oof_train,\n",
    "    y=machine.training_target,\n",
    "    scoring=\"accuracy\",\n",
    "    n_folds=8,\n",
    "    n_jobs=10,\n",
    "    iters=1000,\n",
    "    verbose=0,\n",
    ")"
   ]
  },
  {
   "cell_type": "code",
   "execution_count": null,
   "metadata": {
    "ExecuteTime": {
     "end_time": "2019-07-01T02:02:16.781225Z",
     "start_time": "2019-07-01T02:02:15.853Z"
    }
   },
   "outputs": [],
   "source": [
    "# read scores summary table\n",
    "analysis = \"wine\"\n",
    "rundate = \"20190807\"\n",
    "bayes_optim_summary_meta = pd.read_csv(\"{}_hyperopt_meta_{}.csv\".format(rundate, analysis))\n",
    "bayes_optim_summary_meta[:5]"
   ]
  },
  {
   "cell_type": "code",
   "execution_count": null,
   "metadata": {
    "ExecuteTime": {
     "end_time": "2019-07-01T02:02:16.783163Z",
     "start_time": "2019-07-01T02:02:15.858Z"
    }
   },
   "outputs": [],
   "source": [
    "# model loss plot\n",
    "for estimator in np.unique(bayes_optim_summary_meta[\"estimator\"]):\n",
    "    machine.model_loss_plot(bayes_optim_summary=bayes_optim_summary_meta, estimator=estimator)"
   ]
  },
  {
   "cell_type": "code",
   "execution_count": null,
   "metadata": {},
   "outputs": [],
   "source": [
    "# estimator parameter plots\n",
    "for estimator in np.unique(bayes_optim_summary_meta[\"estimator\"]):\n",
    "    machine.modelParamPlot(\n",
    "        bayes_optim_summary=bayes_optim_summary_meta,\n",
    "        estimator=estimator,\n",
    "        estimator_parameter_space=estimator_parameter_space,\n",
    "        n_iter=100,\n",
    "        chart_scale=15,\n",
    "    )"
   ]
  },
  {
   "cell_type": "markdown",
   "metadata": {},
   "source": [
    "## Model performance evaluation - stacked models"
   ]
  },
  {
   "cell_type": "code",
   "execution_count": null,
   "metadata": {},
   "outputs": [],
   "source": [
    "top_models = machine.top_bayes_optim_models(\n",
    "    bayes_optim_summary=bayes_optim_summary_meta, num_models=1\n",
    ")\n",
    "top_models"
   ]
  },
  {
   "cell_type": "code",
   "execution_count": null,
   "metadata": {
    "ExecuteTime": {
     "end_time": "2019-07-01T02:02:16.794001Z",
     "start_time": "2019-07-01T02:02:15.894Z"
    }
   },
   "outputs": [],
   "source": [
    "# best second level learning model\n",
    "estimator = \"LGBMClassifier\"; model_iter = 668\n",
    "# estimator = \"XGBClassifier\"; model_iter = 380\n",
    "# estimator = \"RandomForestClassifier\"; model_iter = 411\n",
    "# estimator = \"GradientBoostingClassifier\"; model_iter = 590\n",
    "# estimator = \"SVC\"; model_iter = 135\n",
    "\n",
    "# extract params and instantiate model\n",
    "model = machine.BayesOptimModelBuilder(\n",
    "    bayes_optim_summary=bayes_optim_summary_meta, estimator=estimator, model_iter=model_iter\n",
    ")\n",
    "machine.binary_classification_panel(\n",
    "    model=model, X_train=oof_train, y_train=machine.training_target, labels=[0, 1]\n",
    ")"
   ]
  },
  {
   "cell_type": "code",
   "execution_count": null,
   "metadata": {},
   "outputs": [],
   "source": [
    "# create classification reports\n",
    "for estimator, model_iters in top_models.items():\n",
    "    for model_iter in model_iters:\n",
    "        model = machine.BayesOptimModelBuilder(\n",
    "            bayes_optim_summary=bayes_optim_summary_meta,\n",
    "            estimator=estimator,\n",
    "            model_iter=model_iter,\n",
    "        )\n",
    "        machine.binary_classification_panel(\n",
    "            model=model, X_train=oof_train, y_train=machine.training_target, labels=[0, 1], n_folds=4\n",
    "        )"
   ]
  },
  {
   "cell_type": "markdown",
   "metadata": {},
   "source": [
    "## Validation set evaluation - stacked models"
   ]
  },
  {
   "cell_type": "code",
   "execution_count": null,
   "metadata": {},
   "outputs": [],
   "source": [
    "## standard model fit and predict\n",
    "# select estimator and iteration\n",
    "estimator = \"LGBMClassifier\"; model_iter = 668\n",
    "# estimator = \"XGBClassifier\"; model_iter = 380\n",
    "# estimator = \"RandomForestClassifier\"; model_iter = 411\n",
    "# estimator = \"GradientBoostingClassifier\"; model_iter = 590\n",
    "# estimator = \"SVC\"; model_iter = 135\n",
    "\n",
    "# extract params and instantiate model\n",
    "model = machine.BayesOptimModelBuilder(\n",
    "    bayes_optim_summary=bayes_optim_summary_meta, estimator=estimator, model_iter=model_iter\n",
    ")\n",
    "model.fit(oof_train, machine.training_target.values)\n",
    "\n",
    "# fit model and make predictions\n",
    "y_pred = model.predict(oof_valid)"
   ]
  },
  {
   "cell_type": "code",
   "execution_count": null,
   "metadata": {},
   "outputs": [],
   "source": [
    "machine.binary_classification_panel(\n",
    "    model=model,\n",
    "    X_train=oof_train,\n",
    "    y_train=machine.training_target,\n",
    "    X_valid=oof_valid,\n",
    "    y_valid=machine.validation_target,\n",
    "    labels=[0, 1],\n",
    ")"
   ]
  },
  {
   "cell_type": "code",
   "execution_count": null,
   "metadata": {},
   "outputs": [],
   "source": [
    "# create classification reports\n",
    "for estimator, model_iters in top_models.items():\n",
    "    for model_iter in model_iters:\n",
    "        model = machine.BayesOptimModelBuilder(\n",
    "            bayes_optim_summary=bayes_optim_summary_meta,\n",
    "            estimator=estimator,\n",
    "            model_iter=model_iter,\n",
    "        )\n",
    "        machine.binary_classification_panel(\n",
    "            model=model,\n",
    "            X_train=oof_train,\n",
    "            y_train=machine.training_target,\n",
    "            X_valid=oof_valid,\n",
    "            y_valid=machine.validation_target,\n",
    "            labels=[0, 1],\n",
    "        )"
   ]
  }
 ],
 "metadata": {
  "kernelspec": {
   "display_name": "Python 3 (ipykernel)",
   "language": "python",
   "name": "python3"
  },
  "language_info": {
   "codemirror_mode": {
    "name": "ipython",
    "version": 3
   },
   "file_extension": ".py",
   "mimetype": "text/x-python",
   "name": "python",
   "nbconvert_exporter": "python",
   "pygments_lexer": "ipython3",
   "version": "3.8.11"
  },
  "toc": {
   "base_numbering": 1,
   "nav_menu": {},
   "number_sections": true,
   "sideBar": true,
   "skip_h1_title": false,
   "title_cell": "Table of Contents",
   "title_sidebar": "Contents",
   "toc_cell": false,
   "toc_position": {},
   "toc_section_display": true,
   "toc_window_display": false
  }
 },
 "nbformat": 4,
 "nbformat_minor": 4
}
